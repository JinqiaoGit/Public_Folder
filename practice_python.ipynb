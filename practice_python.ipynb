{
 "cells": [
  {
   "cell_type": "markdown",
   "id": "d7f773f5",
   "metadata": {},
   "source": [
    "题目1：有四个数字：1、2、3、4，能组成多少个互不相同且无重复数字的三位数？各是多少？"
   ]
  },
  {
   "cell_type": "code",
   "execution_count": null,
   "id": "dfc6c272",
   "metadata": {},
   "outputs": [],
   "source": []
  },
  {
   "cell_type": "markdown",
   "id": "57e1f3b1",
   "metadata": {},
   "source": [
    "题目2：数，它加上100和加上268后都是一个完全平方数，请问该数是多少？"
   ]
  },
  {
   "cell_type": "code",
   "execution_count": null,
   "id": "e27e7246",
   "metadata": {},
   "outputs": [],
   "source": []
  },
  {
   "cell_type": "markdown",
   "id": "54682d74",
   "metadata": {},
   "source": [
    "题目3：输入某年某月某日（yyyy-MM-dd），判断这一天是这一年的第几天？"
   ]
  },
  {
   "cell_type": "code",
   "execution_count": null,
   "id": "621f3d9a",
   "metadata": {},
   "outputs": [],
   "source": []
  },
  {
   "cell_type": "markdown",
   "id": "90e07896",
   "metadata": {},
   "source": [
    "题目4：输入三个整数x,y,z，请把这三个数由小到大输出。"
   ]
  },
  {
   "cell_type": "code",
   "execution_count": null,
   "id": "e090c411",
   "metadata": {},
   "outputs": [],
   "source": []
  },
  {
   "cell_type": "markdown",
   "id": "d46b64d4",
   "metadata": {},
   "source": [
    "题目5：斐波那契数列。"
   ]
  },
  {
   "cell_type": "code",
   "execution_count": null,
   "id": "23234610",
   "metadata": {},
   "outputs": [],
   "source": []
  },
  {
   "cell_type": "markdown",
   "id": "e218b869",
   "metadata": {},
   "source": [
    "题目6：将一个列表的数据复制到另一个列表中。"
   ]
  },
  {
   "cell_type": "code",
   "execution_count": null,
   "id": "71514555",
   "metadata": {},
   "outputs": [],
   "source": []
  },
  {
   "cell_type": "markdown",
   "id": "9486af18",
   "metadata": {},
   "source": [
    "题目7：输出 9*9 乘法口诀表。"
   ]
  },
  {
   "cell_type": "code",
   "execution_count": null,
   "id": "4abee5ba",
   "metadata": {},
   "outputs": [],
   "source": []
  },
  {
   "cell_type": "markdown",
   "id": "e2ab41ea",
   "metadata": {},
   "source": [
    "题目8：使用datetime输出指定格式的日期。"
   ]
  },
  {
   "cell_type": "code",
   "execution_count": null,
   "id": "fa19ab79",
   "metadata": {},
   "outputs": [],
   "source": []
  },
  {
   "cell_type": "markdown",
   "id": "525fa38c",
   "metadata": {},
   "source": [
    "题目9：输入一行字符，分别统计出其中英文字母、空格、数字和其它字符的个数。"
   ]
  },
  {
   "cell_type": "code",
   "execution_count": null,
   "id": "9869d4a1",
   "metadata": {},
   "outputs": [],
   "source": []
  },
  {
   "cell_type": "markdown",
   "id": "8cf4674d",
   "metadata": {},
   "source": [
    "题目10：2/1，3/2，5/3，8/5，13/8，21/13...求出这个数列的前20项之和。"
   ]
  },
  {
   "cell_type": "code",
   "execution_count": null,
   "id": "a5b9b855",
   "metadata": {},
   "outputs": [],
   "source": []
  }
 ],
 "metadata": {
  "kernelspec": {
   "display_name": "hnu",
   "language": "python",
   "name": "hnu"
  },
  "language_info": {
   "codemirror_mode": {
    "name": "ipython",
    "version": 3
   },
   "file_extension": ".py",
   "mimetype": "text/x-python",
   "name": "python",
   "nbconvert_exporter": "python",
   "pygments_lexer": "ipython3",
   "version": "3.9.16"
  }
 },
 "nbformat": 4,
 "nbformat_minor": 5
}
