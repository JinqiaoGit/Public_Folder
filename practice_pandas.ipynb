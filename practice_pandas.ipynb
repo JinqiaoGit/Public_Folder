{
 "cells": [
  {
   "cell_type": "markdown",
   "id": "5e7022bc",
   "metadata": {},
   "source": [
    "## Series练习"
   ]
  },
  {
   "cell_type": "code",
   "execution_count": null,
   "id": "400a272b",
   "metadata": {},
   "outputs": [],
   "source": [
    "# 练习1：从列表创建 Series，[1,2,3,4]"
   ]
  },
  {
   "cell_type": "code",
   "execution_count": null,
   "id": "4965519c",
   "metadata": {},
   "outputs": [],
   "source": [
    "# 练习2：从字典创建 Series，{'a':1,'b':2,'c':3,'d':4}"
   ]
  },
  {
   "cell_type": "code",
   "execution_count": 1,
   "id": "3d8d964e",
   "metadata": {},
   "outputs": [],
   "source": [
    "# 练习3：创建一个Series，并命名Series_1"
   ]
  },
  {
   "cell_type": "code",
   "execution_count": null,
   "id": "ab7ccc35",
   "metadata": {},
   "outputs": [],
   "source": [
    "# 练习4：创建一个Series，并展示它的values"
   ]
  },
  {
   "cell_type": "code",
   "execution_count": null,
   "id": "7907371f",
   "metadata": {},
   "outputs": [],
   "source": [
    "# 练习5：给已经创建的Series添加index\n",
    "s = pd.Series(['A','B','C'])\n",
    "index_names = ['first', 'second', 'third']"
   ]
  },
  {
   "cell_type": "code",
   "execution_count": 2,
   "id": "92518800",
   "metadata": {},
   "outputs": [],
   "source": [
    "# 练习6：展示Series第一个元素 （请使用多种方法）"
   ]
  },
  {
   "cell_type": "code",
   "execution_count": 3,
   "id": "a5658eee",
   "metadata": {},
   "outputs": [],
   "source": [
    "# 练习7：展示除首位外所有的元素"
   ]
  },
  {
   "cell_type": "code",
   "execution_count": 4,
   "id": "38e7e27b",
   "metadata": {},
   "outputs": [],
   "source": [
    "# 练习8：反转Series"
   ]
  },
  {
   "cell_type": "code",
   "execution_count": 5,
   "id": "5ff1f4df",
   "metadata": {},
   "outputs": [],
   "source": [
    "# 练习9：只显示s3中不为空的行\n",
    "# s1\n",
    "lst = [1,3,5,6,10,23]\n",
    "s1 = pd.Series(lst,index=[\"A\",\"B\",\"C\",\"D\",\"E\",\"F\"])\n",
    "# s2\n",
    "my_dict = {\"A\":1,\"B\":2,\"C\":3,\"D\":2}\n",
    "s2 = pd.Series(my_dict)\n",
    "s3 = s1 + s2"
   ]
  },
  {
   "cell_type": "code",
   "execution_count": 6,
   "id": "f0a34d0c",
   "metadata": {},
   "outputs": [],
   "source": [
    "# 练习10：只显示s3中为空的行"
   ]
  },
  {
   "cell_type": "markdown",
   "id": "2fcfc458",
   "metadata": {},
   "source": [
    "## DataFrame练习"
   ]
  },
  {
   "cell_type": "code",
   "execution_count": null,
   "id": "07afd5fa",
   "metadata": {},
   "outputs": [],
   "source": [
    "# 练习1：创建一个DataFrame"
   ]
  },
  {
   "cell_type": "code",
   "execution_count": null,
   "id": "af00ce45",
   "metadata": {},
   "outputs": [],
   "source": [
    "# 练习2：给这个DataFrame添加names"
   ]
  },
  {
   "cell_type": "code",
   "execution_count": 7,
   "id": "096f7bff",
   "metadata": {},
   "outputs": [],
   "source": [
    "# 练习3：给这个DataFrame添加自己的index和column"
   ]
  },
  {
   "cell_type": "code",
   "execution_count": null,
   "id": "afbb4493",
   "metadata": {},
   "outputs": [],
   "source": [
    "# 练习4：展示最后一行"
   ]
  },
  {
   "cell_type": "code",
   "execution_count": 8,
   "id": "bb7c0196",
   "metadata": {},
   "outputs": [],
   "source": [
    "# 练习5：将第四列第一行赋值为10，列中其他为0"
   ]
  },
  {
   "cell_type": "code",
   "execution_count": 9,
   "id": "8d5c082c",
   "metadata": {},
   "outputs": [],
   "source": [
    "# 练习6：得到一个mask，条件为value为0"
   ]
  },
  {
   "cell_type": "code",
   "execution_count": 10,
   "id": "30a31dbb",
   "metadata": {},
   "outputs": [],
   "source": [
    "# 练习7：取出第三列的值大于0.5的所在行"
   ]
  },
  {
   "cell_type": "code",
   "execution_count": 11,
   "id": "5080eeb7",
   "metadata": {},
   "outputs": [],
   "source": [
    "# 练习8：计算第三列总和，以及第二行总和"
   ]
  },
  {
   "cell_type": "code",
   "execution_count": null,
   "id": "54d90375",
   "metadata": {},
   "outputs": [],
   "source": [
    "# 练习9： 有一列整数列A的DatraFrame，删除数值重复的行\n",
    "df = pd.DataFrame({'A': [1, 2, 2, 3, 4, 5, 5, 5, 6, 7, 7]})"
   ]
  },
  {
   "cell_type": "code",
   "execution_count": null,
   "id": "bd8354e7",
   "metadata": {},
   "outputs": [],
   "source": [
    "## 练习10：一个有5列的DataFrame，求哪一列的和最小，并打印数值\n",
    "df = pd.DataFrame(np.random.random(size=(5, 5)))"
   ]
  },
  {
   "cell_type": "code",
   "execution_count": null,
   "id": "0624dc45",
   "metadata": {},
   "outputs": [],
   "source": [
    "## 练习11：将Name列中的AAPL替换为Apple\n",
    "df = pd.read_csv('./data/all_stocks.csv')"
   ]
  },
  {
   "cell_type": "code",
   "execution_count": null,
   "id": "e9c4ed1e",
   "metadata": {},
   "outputs": [],
   "source": [
    "## 练习12：在df中插入行，然后删除它\n",
    "df = pd.read_csv('./data/all_stocks.csv')"
   ]
  },
  {
   "cell_type": "code",
   "execution_count": null,
   "id": "33820b96",
   "metadata": {},
   "outputs": [],
   "source": [
    "# 练习13：将high列中的大于50的值替换为布尔值True, 繁殖False\n",
    "df = pd.read_csv('./data/all_stocks.csv')"
   ]
  },
  {
   "cell_type": "code",
   "execution_count": null,
   "id": "40ae6eeb",
   "metadata": {},
   "outputs": [],
   "source": []
  },
  {
   "cell_type": "code",
   "execution_count": null,
   "id": "47b66b4e",
   "metadata": {},
   "outputs": [],
   "source": []
  },
  {
   "cell_type": "code",
   "execution_count": null,
   "id": "617072ff",
   "metadata": {},
   "outputs": [],
   "source": []
  },
  {
   "cell_type": "code",
   "execution_count": null,
   "id": "bfa1f7c8",
   "metadata": {},
   "outputs": [],
   "source": []
  }
 ],
 "metadata": {
  "kernelspec": {
   "display_name": "hnu",
   "language": "python",
   "name": "hnu"
  },
  "language_info": {
   "codemirror_mode": {
    "name": "ipython",
    "version": 3
   },
   "file_extension": ".py",
   "mimetype": "text/x-python",
   "name": "python",
   "nbconvert_exporter": "python",
   "pygments_lexer": "ipython3",
   "version": "3.9.16"
  }
 },
 "nbformat": 4,
 "nbformat_minor": 5
}
