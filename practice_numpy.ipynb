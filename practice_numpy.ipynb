{
 "cells": [
  {
   "cell_type": "markdown",
   "id": "bc77477e",
   "metadata": {},
   "source": [
    "**练习一：**  \n",
    "创建一个$3 \\times 3$并且值从4到12的矩阵"
   ]
  },
  {
   "cell_type": "code",
   "execution_count": null,
   "id": "fcc4f7e3",
   "metadata": {},
   "outputs": [],
   "source": []
  },
  {
   "cell_type": "markdown",
   "id": "4c358888",
   "metadata": {},
   "source": [
    "___\n",
    "**练习二：**  \n",
    "找到数组$[3, 4, 5, 0, 2, 1, 0]$中非0元素的位置索引"
   ]
  },
  {
   "cell_type": "code",
   "execution_count": null,
   "id": "110f7289",
   "metadata": {},
   "outputs": [],
   "source": []
  },
  {
   "cell_type": "markdown",
   "id": "dd12d70a",
   "metadata": {},
   "source": [
    "___\n",
    "**练习三：**  \n",
    "创建一个 $10 \\times 10$ 的随机数组并找到它的最大值和最小值"
   ]
  },
  {
   "cell_type": "code",
   "execution_count": null,
   "id": "e928b3dc",
   "metadata": {},
   "outputs": [],
   "source": []
  },
  {
   "cell_type": "markdown",
   "id": "1ed0fdeb",
   "metadata": {},
   "source": [
    "___\n",
    "**练习四：**  \n",
    "对于一个已存在数组，添加一个用0填充的边界。\n",
    "from\n",
    "$\\left[\n",
    "\\begin{matrix}\n",
    "1 & 1 & 1\\\\\n",
    "1 & 1 & 1 \\\\\n",
    "1 & 1 & 1\n",
    "\\end{matrix}\n",
    "\\right]\n",
    "$ to \n",
    "$\\left[\n",
    "\\begin{matrix}\n",
    "0 & 0 & 0 & 0 & 0\\\\\n",
    "0 & 1 & 1 & 1 & 0\\\\\n",
    "0 & 1 & 1 & 1 & 0\\\\\n",
    "0 & 1 & 1 & 1 & 0\\\\\n",
    "0 & 0 & 0 & 0 & 0\n",
    "\\end{matrix}\n",
    "\\right]\n",
    "$"
   ]
  },
  {
   "cell_type": "code",
   "execution_count": null,
   "id": "230b076a",
   "metadata": {},
   "outputs": [],
   "source": []
  },
  {
   "cell_type": "markdown",
   "id": "1bfd84b1",
   "metadata": {},
   "source": [
    "___\n",
    "**练习五：**  \n",
    "对一个 $6 × 6$ 的随机矩阵做归一化"
   ]
  },
  {
   "cell_type": "code",
   "execution_count": null,
   "id": "f9af0f80",
   "metadata": {},
   "outputs": [],
   "source": []
  },
  {
   "cell_type": "markdown",
   "id": "cbd9e89d",
   "metadata": {},
   "source": [
    "___\n",
    "**练习六：**  \n",
    "如何在不占用额外内存的情况下计算$((A+B)*(-A / 2))$"
   ]
  },
  {
   "cell_type": "code",
   "execution_count": null,
   "id": "7e36c28b",
   "metadata": {},
   "outputs": [],
   "source": [
    "A = np.ones(3)*1\n",
    "B = np.ones(3)*2"
   ]
  },
  {
   "cell_type": "markdown",
   "id": "132cdd06",
   "metadata": {},
   "source": [
    "___\n",
    "**练习七：** \n",
    "生成$5\\times5$的对角矩阵"
   ]
  },
  {
   "cell_type": "code",
   "execution_count": null,
   "id": "fb8b11e8",
   "metadata": {},
   "outputs": [],
   "source": []
  },
  {
   "cell_type": "markdown",
   "id": "6fd49a4c",
   "metadata": {},
   "source": [
    "___\n",
    "**练习八：** \n",
    "对一个小数组进行求和不使用sum并且更快"
   ]
  },
  {
   "cell_type": "code",
   "execution_count": null,
   "id": "888a8ce8",
   "metadata": {},
   "outputs": [],
   "source": []
  },
  {
   "cell_type": "markdown",
   "id": "6d63f4ca",
   "metadata": {},
   "source": [
    "___\n",
    "**练习九：** \n",
    "创建一个大小为10的随机向量并且将该向量中最大的值替换为0"
   ]
  },
  {
   "cell_type": "code",
   "execution_count": null,
   "id": "b5653676",
   "metadata": {},
   "outputs": [],
   "source": []
  },
  {
   "cell_type": "markdown",
   "id": "9c01ab03",
   "metadata": {},
   "source": [
    "___\n",
    "**练习十：** \n",
    "如何在数组a中找到与给定b中标量接近的值"
   ]
  },
  {
   "cell_type": "code",
   "execution_count": null,
   "id": "f67d39a4",
   "metadata": {},
   "outputs": [],
   "source": []
  }
 ],
 "metadata": {
  "kernelspec": {
   "display_name": "hnu",
   "language": "python",
   "name": "hnu"
  },
  "language_info": {
   "codemirror_mode": {
    "name": "ipython",
    "version": 3
   },
   "file_extension": ".py",
   "mimetype": "text/x-python",
   "name": "python",
   "nbconvert_exporter": "python",
   "pygments_lexer": "ipython3",
   "version": "3.9.16"
  }
 },
 "nbformat": 4,
 "nbformat_minor": 5
}
